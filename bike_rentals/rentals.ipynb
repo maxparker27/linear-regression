{
 "cells": [
  {
   "cell_type": "markdown",
   "metadata": {},
   "source": [
    "### Importing Necessary Libraries"
   ]
  },
  {
   "cell_type": "code",
   "execution_count": 1,
   "metadata": {},
   "outputs": [],
   "source": [
    "import pandas as pd\n",
    "import numpy as np"
   ]
  },
  {
   "cell_type": "markdown",
   "metadata": {},
   "source": [
    "### Importing Bike Rentals Dataset"
   ]
  },
  {
   "cell_type": "code",
   "execution_count": 2,
   "metadata": {},
   "outputs": [
    {
     "name": "stdout",
     "output_type": "stream",
     "text": [
      "Index(['instant', 'dteday', 'season', 'yr', 'mnth', 'holiday', 'weekday',\n",
      "       'workingday', 'weathersit', 'temp', 'atemp', 'hum', 'windspeed',\n",
      "       'casual', 'registered', 'cnt'],\n",
      "      dtype='object')\n"
     ]
    }
   ],
   "source": [
    "df = pd.read_csv(\"day.csv\")\n",
    "print(df.columns)"
   ]
  },
  {
   "cell_type": "markdown",
   "metadata": {},
   "source": [
    "### First few lines of Dataset"
   ]
  },
  {
   "cell_type": "code",
   "execution_count": 6,
   "metadata": {},
   "outputs": [
    {
     "name": "stdout",
     "output_type": "stream",
     "text": [
      "   instant      dteday  season  yr  mnth  holiday  weekday  workingday  \\\n",
      "0        1  01-01-2018       1   0     1        0        6           0   \n",
      "1        2  02-01-2018       1   0     1        0        0           0   \n",
      "2        3  03-01-2018       1   0     1        0        1           1   \n",
      "3        4  04-01-2018       1   0     1        0        2           1   \n",
      "4        5  05-01-2018       1   0     1        0        3           1   \n",
      "\n",
      "   weathersit       temp     atemp      hum  windspeed  casual  registered  \\\n",
      "0           2  14.110847  18.18125  80.5833  10.749882     331         654   \n",
      "1           2  14.902598  17.68695  69.6087  16.652113     131         670   \n",
      "2           1   8.050924   9.47025  43.7273  16.636703     120        1229   \n",
      "3           1   8.200000  10.60610  59.0435  10.739832     108        1454   \n",
      "4           1   9.305237  11.46350  43.6957  12.522300      82        1518   \n",
      "\n",
      "    cnt  \n",
      "0   985  \n",
      "1   801  \n",
      "2  1349  \n",
      "3  1562  \n",
      "4  1600  \n"
     ]
    }
   ],
   "source": [
    "print(df.head())"
   ]
  },
  {
   "cell_type": "markdown",
   "metadata": {},
   "source": [
    "### Find out data type of each column"
   ]
  },
  {
   "cell_type": "code",
   "execution_count": 3,
   "metadata": {},
   "outputs": [
    {
     "name": "stdout",
     "output_type": "stream",
     "text": [
      "instant         int64\n",
      "dteday         object\n",
      "season          int64\n",
      "yr              int64\n",
      "mnth            int64\n",
      "holiday         int64\n",
      "weekday         int64\n",
      "workingday      int64\n",
      "weathersit      int64\n",
      "temp          float64\n",
      "atemp         float64\n",
      "hum           float64\n",
      "windspeed     float64\n",
      "casual          int64\n",
      "registered      int64\n",
      "cnt             int64\n",
      "dtype: object\n"
     ]
    }
   ],
   "source": [
    "print(df.dtypes)"
   ]
  },
  {
   "cell_type": "markdown",
   "metadata": {},
   "source": [
    "### Find count, size and number of unique values in each column"
   ]
  },
  {
   "cell_type": "code",
   "execution_count": 4,
   "metadata": {},
   "outputs": [
    {
     "name": "stdout",
     "output_type": "stream",
     "text": [
      "         instant      dteday  season   yr  mnth  holiday  weekday  workingday  \\\n",
      "min            1  01-01-2018       1    0     1        0        0           0   \n",
      "max          730  31-12-2019       4    1    12        1        6           1   \n",
      "count        730         730     730  730   730      730      730         730   \n",
      "size         730         730     730  730   730      730      730         730   \n",
      "nunique      730         730       4    2    12        2        7           2   \n",
      "\n",
      "         weathersit        temp      atemp     hum   windspeed  casual  \\\n",
      "min               1    2.424346    3.95348    0.00    1.500244       2   \n",
      "max               3   35.328347   42.04480   97.25   34.000021    3410   \n",
      "count           730  730.000000  730.00000  730.00  730.000000     730   \n",
      "size            730  730.000000  730.00000  730.00  730.000000     730   \n",
      "nunique           3  498.000000  689.00000  594.00  649.000000     605   \n",
      "\n",
      "         registered   cnt  \n",
      "min              20    22  \n",
      "max            6946  8714  \n",
      "count           730   730  \n",
      "size            730   730  \n",
      "nunique         678   695  \n"
     ]
    }
   ],
   "source": [
    "print(df.agg(['min', 'max', 'count', 'size', 'nunique']))"
   ]
  },
  {
   "cell_type": "markdown",
   "metadata": {},
   "source": [
    "### Descriptive Statistics of Dataset: "
   ]
  },
  {
   "cell_type": "code",
   "execution_count": 5,
   "metadata": {},
   "outputs": [
    {
     "name": "stdout",
     "output_type": "stream",
     "text": [
      "          instant      season          yr        mnth     holiday     weekday  \\\n",
      "count  730.000000  730.000000  730.000000  730.000000  730.000000  730.000000   \n",
      "mean   365.500000    2.498630    0.500000    6.526027    0.028767    2.997260   \n",
      "std    210.877136    1.110184    0.500343    3.450215    0.167266    2.006161   \n",
      "min      1.000000    1.000000    0.000000    1.000000    0.000000    0.000000   \n",
      "25%    183.250000    2.000000    0.000000    4.000000    0.000000    1.000000   \n",
      "50%    365.500000    3.000000    0.500000    7.000000    0.000000    3.000000   \n",
      "75%    547.750000    3.000000    1.000000   10.000000    0.000000    5.000000   \n",
      "max    730.000000    4.000000    1.000000   12.000000    1.000000    6.000000   \n",
      "\n",
      "       workingday  weathersit        temp       atemp         hum   windspeed  \\\n",
      "count  730.000000  730.000000  730.000000  730.000000  730.000000  730.000000   \n",
      "mean     0.683562    1.394521   20.319259   23.726322   62.765175   12.763620   \n",
      "std      0.465405    0.544807    7.506729    8.150308   14.237589    5.195841   \n",
      "min      0.000000    1.000000    2.424346    3.953480    0.000000    1.500244   \n",
      "25%      0.000000    1.000000   13.811885   16.889713   52.000000    9.041650   \n",
      "50%      1.000000    1.000000   20.465826   24.368225   62.625000   12.125325   \n",
      "75%      1.000000    2.000000   26.880615   30.445775   72.989575   15.625589   \n",
      "max      1.000000    3.000000   35.328347   42.044800   97.250000   34.000021   \n",
      "\n",
      "            casual   registered          cnt  \n",
      "count   730.000000   730.000000   730.000000  \n",
      "mean    849.249315  3658.757534  4508.006849  \n",
      "std     686.479875  1559.758728  1936.011647  \n",
      "min       2.000000    20.000000    22.000000  \n",
      "25%     316.250000  2502.250000  3169.750000  \n",
      "50%     717.000000  3664.500000  4548.500000  \n",
      "75%    1096.500000  4783.250000  5966.000000  \n",
      "max    3410.000000  6946.000000  8714.000000  \n"
     ]
    }
   ],
   "source": [
    "print(df.describe())"
   ]
  },
  {
   "cell_type": "markdown",
   "metadata": {},
   "source": [
    "### Check for Missing Values"
   ]
  },
  {
   "cell_type": "code",
   "execution_count": 10,
   "metadata": {},
   "outputs": [
    {
     "name": "stdout",
     "output_type": "stream",
     "text": [
      "instant       0\n",
      "dteday        0\n",
      "season        0\n",
      "yr            0\n",
      "mnth          0\n",
      "holiday       0\n",
      "weekday       0\n",
      "workingday    0\n",
      "weathersit    0\n",
      "temp          0\n",
      "atemp         0\n",
      "hum           0\n",
      "windspeed     0\n",
      "casual        0\n",
      "registered    0\n",
      "cnt           0\n",
      "dtype: int64\n"
     ]
    }
   ],
   "source": [
    "print(df.isnull().sum())"
   ]
  },
  {
   "cell_type": "code",
   "execution_count": null,
   "metadata": {},
   "outputs": [],
   "source": []
  }
 ],
 "metadata": {
  "kernelspec": {
   "display_name": "Python 3.8.8 64-bit ('diss': conda)",
   "metadata": {
    "interpreter": {
     "hash": "ecafa8ead4ba8f0767baf7526224aa8eb92419c123adf3a446a52b1ee3b3c46f"
    }
   },
   "name": "python3"
  },
  "language_info": {
   "codemirror_mode": {
    "name": "ipython",
    "version": 3
   },
   "file_extension": ".py",
   "mimetype": "text/x-python",
   "name": "python",
   "nbconvert_exporter": "python",
   "pygments_lexer": "ipython3",
   "version": "3.8.8"
  },
  "orig_nbformat": 2
 },
 "nbformat": 4,
 "nbformat_minor": 2
}